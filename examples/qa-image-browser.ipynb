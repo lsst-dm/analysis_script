{
 "cells": [
  {
   "cell_type": "code",
   "execution_count": null,
   "metadata": {},
   "outputs": [],
   "source": [
    "import holoviews as hv\n",
    "hv.notebook_extension('bokeh')"
   ]
  },
  {
   "cell_type": "code",
   "execution_count": null,
   "metadata": {
    "collapsed": true
   },
   "outputs": [],
   "source": [
    "# Info about RC visits\n",
    "\n",
    "import re\n",
    "\n",
    "visits = {'cosmos' : {'HSC-G' : \"11690..11712:2^29324^29326^29336^29340^29350^29352\",\n",
    "                      'HSC-R' : \"1202..1220:2^23692^23694^23704^23706^23716^23718\",\n",
    "                      'HSC-I' : \"1228..1232:2^1236..1248:2^19658^19660^19662^19680^19682^19684^19694^19696^19698^19708^19710^19712^30482..30504:2\",\n",
    "                      'HSC-Y' : \"274..302:2^306..334:2^342..370:2^1858..1862:2^1868..1882:2^11718..11742:2^22602..22608:2^22626..22632:2^22642..22648:2^22658..22664:2\",\n",
    "                      'HSC-Z' : \"1166..1194:2^17900..17908:2^17926..17934:2^17944..17952:2^17962^28354..28402:2\",\n",
    "                      'NB0921' : \"23038..23056:2^23594..23606:2^24298..24310:2^25810..25816:2\"},\n",
    "         'wide' : {'HSC-G' : \"9852^9856^9860^9864^9868^9870^9888^9890^9898^9900^9904^9906^9912^11568^11572^11576^11582^11588^11590^11596^11598\",\n",
    "                   'HSC-R' : \"11442^11446^11450^11470^11476^11478^11506^11508^11532^11534\",\n",
    "                   'HSC-I' : \"7300^7304^7308^7318^7322^7338^7340^7344^7348^7358^7360^7374^7384^7386^19468^19470^19482^19484^19486\",\n",
    "                   'HSC-Y' : \"6478^6482^6486^6496^6498^6522^6524^6528^6532^6544^6546^6568^13152^13154\",\n",
    "                   'HSC-Z' : \"9708^9712^9716^9724^9726^9730^9732^9736^9740^9750^9752^9764^9772^9774^17738^17740^17750^17752^17754\"}\n",
    "         }\n",
    "visits['wide-8766'] = visits['wide']\n",
    "visits['wide-8767'] = visits['wide']\n",
    "\n",
    "def visit_list(visit_string):\n",
    "    l = []\n",
    "    for v in visit_string.split('^'):\n",
    "        try:\n",
    "            l.append([int(v)])\n",
    "        except:\n",
    "            m = re.search('(\\d+)\\.\\.(\\d+):(\\d)', v)\n",
    "            l.append(range(int(m.group(1)), int(m.group(2))+1, int(m.group(3))))\n",
    "    return [x for y in l for x in y]\n",
    "\n",
    "def get_visits(field, filt):\n",
    "    return visit_list(visits[field][filt])\n",
    "\n",
    "def field_name(tract):\n",
    "    if tract==9813:\n",
    "        return 'cosmos'\n",
    "    elif tract==8766:\n",
    "        return 'wide-8766' \n",
    "    elif tract==8767:\n",
    "        return 'wide-8767'"
   ]
  },
  {
   "cell_type": "code",
   "execution_count": null,
   "metadata": {
    "collapsed": true
   },
   "outputs": [],
   "source": [
    "from lsst.daf.persistence import Butler\n",
    "\n",
    "rerun44 = '/project/tmorton/DM-12873/w44'\n",
    "rerun46 = '/project/tmorton/DM-12873/w46'\n",
    "\n",
    "butler44 = Butler(rerun44)\n",
    "butler46 = Butler(rerun46)\n",
    "\n",
    "butler = butler44"
   ]
  },
  {
   "cell_type": "code",
   "execution_count": null,
   "metadata": {
    "collapsed": true
   },
   "outputs": [],
   "source": [
    "from itertools import product\n",
    "from functools import partial\n",
    "import numpy as np\n",
    "\n",
    "from lsst.pipe.analysis.utils import Filenamer\n",
    "\n",
    "wide_filters = ['HSC-G', 'HSC-R', 'HSC-I', 'HSC-Z', 'HSC-Y']\n",
    "cosmos_filters = ['HSC-G', 'HSC-R', 'HSC-I', 'HSC-Z', 'HSC-Y', 'NB0921']\n",
    "COLUMNS = 3\n",
    "\n",
    "def get_color_plot(butler, tract=8766, description='color_wPerp', style='psfMagHist', scale=1.0):\n",
    "    dataId = {'tract':tract}\n",
    "    filenamer = Filenamer(butler, 'plotColor', dataId)\n",
    "    filename = filenamer(description=description, dataId=dataId, style=style)\n",
    "\n",
    "    try:\n",
    "        return hv.RGB.load_image(filename).opts(plot={'xaxis':None, 'yaxis':None,\n",
    "                                                      'width':int(640*scale), 'height':int(480*scale)})\n",
    "    except FileNotFoundError:\n",
    "        return hv.RGB(np.zeros((2,2)))\n",
    "    \n",
    "def color_tract_layout(butler, description, style='psfMagHist', tracts=[8766, 8767, 9813], scale=1.0):\n",
    "    return hv.Layout([get_color_plot(butler, tract, description=description, style=style, scale=scale) \n",
    "                         for tract in tracts])\n",
    "    \n",
    "def color_dmap(butler, tracts=[8766, 8767, 9813], descriptions=['color_wPerp', 'color_xPerp', 'color_yPerp'], \n",
    "               styles=['psfMagHist', 'sky-stars'], scale=1.0):\n",
    "    \n",
    "    dmap = hv.DynamicMap(partial(color_tract_layout, butler=butler, tracts=tracts, scale=scale), kdims=['description', 'style'])\n",
    "    dmap = dmap.redim.values(description=descriptions, style=styles)\n",
    "    return dmap\n",
    "\n",
    "def get_plot(butler, tract, filt, description, style, visit=None, kind='coadd', scale=1.0):\n",
    "    dataId = {'tract':tract, 'filter':filt}\n",
    "    if visit is not None:\n",
    "        dataId.update({'visit':visit})\n",
    "        \n",
    "    filenamer = Filenamer(butler, 'plot{}'.format(kind.capitalize()), dataId)\n",
    "    filename = filenamer(description=description, style=style, dataId=dataId)\n",
    "    try:\n",
    "        return hv.RGB.load_image(filename).opts(plot={'xaxis':None, 'yaxis':None,\n",
    "                                                      'width':int(640*scale), 'height':int(480*scale)})\n",
    "    except FileNotFoundError:\n",
    "        return hv.RGB(np.zeros((2,2)))\n",
    "    \n",
    "def filter_layout(butler, tract=9813, description='mag_modelfit_CModel', style='psfMagHist', visit=None, kind='coadd', scale=0.66):\n",
    "    if tract==9813:\n",
    "        filters = cosmos_filters\n",
    "    else:\n",
    "        filters = wide_filters\n",
    "        \n",
    "    return hv.Layout([get_plot(butler, tract, f, description, style, kind, scale=scale)\n",
    "                               for f in filters]).cols(COLUMNS)\n",
    "    \n",
    "def description_layout(butler, descriptions, tract=9813, filt='HSC-I', style='psfMagHist', visit=None, kind='coadd', scale=0.66):\n",
    "    return hv.Layout([get_plot(butler, tract, filt, desc, style, visit=visit, kind=kind, scale=scale) \n",
    "                               for desc in descriptions]).cols(COLUMNS)\n",
    "    \n",
    "def filter_layout_dmap_coadd(butler, descriptions, tracts=[8766, 8767, 9813], styles=['psfMagHist', 'sky-stars', 'sky-gals'], scale=0.66):\n",
    "    dmap = hv.DynamicMap(partial(filter_layout, butler=butler, visit=None, kind='coadd', scale=scale), \n",
    "                     kdims=['tract', 'description', 'style'])\n",
    "    dmap = dmap.redim.values(tract=tracts, description=descriptions, style=styles) \n",
    "\n",
    "    return dmap\n",
    "    \n",
    "def description_layout_dmap_visit(butler, tract, descriptions, filt='HSC-I', styles=['psfMagHist', 'sky-stars', 'sky-gals'], scale=0.66):\n",
    "    visits = get_visits(field_name(tract), filt)\n",
    "    dmap = hv.DynamicMap(partial(description_layout, descriptions=descriptions, butler=butler, tract=tract, filt=filt, kind='visit', scale=scale), \n",
    "                     kdims=['visit', 'style'])\n",
    "    dmap = dmap.redim.values(visit=visits, style=styles)\n",
    "    return dmap"
   ]
  },
  {
   "cell_type": "markdown",
   "metadata": {},
   "source": [
    "# Source Catalog"
   ]
  },
  {
   "cell_type": "markdown",
   "metadata": {},
   "source": [
    "## Aperture corrections for different photometry algorithms are consistent"
   ]
  },
  {
   "cell_type": "code",
   "execution_count": null,
   "metadata": {},
   "outputs": [],
   "source": [
    "ap_descriptions = ['mag_base_GaussianFlux', 'mag_ext_photometryKron_KronFlux']\n",
    "styles = ['psfMagHist', 'sky-stars', 'sky-gals']\n",
    "filters = ['HSC-G', 'HSC-R', 'HSC-I', 'HSC-Z', 'HSC-Y']\n",
    "tracts = [8766, 8767, 9813]\n",
    "\n",
    "def visit_dmap_dict(tracts, filters, descriptions, styles=['psfMagHist', 'sky-stars', 'sky-gals'], **kwargs):\n",
    "    return {tr : {f : description_layout_dmap_visit(butler, tr, descriptions=descriptions, filt=f, styles=styles, **kwargs).relabel('{}:{}'.format(tr, f)) for f in filters} for tr in tracts}\n",
    "    \n",
    "\n",
    "visit_dmap_aperture_wide = visit_dmap_dict([8766, 8767], wide_filters, ap_descriptions)\n",
    "visit_dmap_aperture_cosmos = visit_dmap_dict([9813], cosmos_filters, ap_descriptions)"
   ]
  },
  {
   "cell_type": "code",
   "execution_count": null,
   "metadata": {
    "collapsed": true
   },
   "outputs": [],
   "source": [
    "from IPython.core.interactiveshell import InteractiveShell\n",
    "InteractiveShell.ast_node_interactivity = \"all\""
   ]
  },
  {
   "cell_type": "code",
   "execution_count": null,
   "metadata": {
    "scrolled": false
   },
   "outputs": [],
   "source": [
    "for tr in [8766, 8767]:\n",
    "    for f in wide_filters:\n",
    "        visit_dmap_aperture_wide[tr][f]        "
   ]
  },
  {
   "cell_type": "code",
   "execution_count": null,
   "metadata": {
    "collapsed": true,
    "scrolled": false
   },
   "outputs": [],
   "source": [
    "for f in cosmos_filters:\n",
    "    visit_dmap_aperture_cosmos[9813][f]"
   ]
  },
  {
   "cell_type": "markdown",
   "metadata": {},
   "source": [
    "## PSF models correctly predict the ellipticities of stars over each tract."
   ]
  },
  {
   "cell_type": "code",
   "execution_count": null,
   "metadata": {
    "collapsed": true
   },
   "outputs": [],
   "source": [
    "e_descriptions = ['e1ResidsHsm', 'e2ResidsHsm']\n",
    "\n",
    "visit_dmap_quiver_wide = visit_dmap_dict([8766, 8767], wide_filters, descriptions=['ellipResids'], styles=['quiver'], scale=1.5)\n",
    "visit_dmap_quiver_cosmos = visit_dmap_dict([9813], cosmos_filters, descriptions=['ellipResids'], styles=['quiver'], scale=1.5)\n",
    "\n",
    "visit_dmap_ellip_wide = visit_dmap_dict([8766, 8767], wide_filters, e_descriptions, scale=1.)\n",
    "visit_dmap_ellip_cosmos = visit_dmap_dict([9813], cosmos_filters, e_descriptions, scale=1.)"
   ]
  },
  {
   "cell_type": "code",
   "execution_count": null,
   "metadata": {
    "collapsed": true,
    "scrolled": false
   },
   "outputs": [],
   "source": [
    "%%opts RGB [height=600, width=800]\n",
    "\n",
    "for tr in [8766, 8767]:\n",
    "    for f in wide_filters:\n",
    "        visit_dmap_quiver_wide[tr][f]     \n",
    "        visit_dmap_ellip_wide[tr][f]       "
   ]
  },
  {
   "cell_type": "code",
   "execution_count": null,
   "metadata": {
    "collapsed": true,
    "scrolled": false
   },
   "outputs": [],
   "source": [
    "for f in cosmos_filters:\n",
    "    visit_dmap_quiver_cosmos[9813][f]       \n",
    "    visit_dmap_ellip_cosmos[9813][f]       "
   ]
  },
  {
   "cell_type": "markdown",
   "metadata": {},
   "source": [
    "## Photometry measurements are consistent with reference catalog photometry (including sources not used in photometric calibration)"
   ]
  },
  {
   "cell_type": "code",
   "execution_count": null,
   "metadata": {
    "collapsed": true
   },
   "outputs": [],
   "source": [
    "ref_phot_descriptions=['matches_mag', 'matches_mag_calib_psf_used']\n",
    "styles=['psfMagHist', 'sky-stars']\n",
    "\n",
    "visit_dmap_ref_phot_wide = visit_dmap_dict([8766, 8767], wide_filters, ref_phot_descriptions, styles=styles, scale=1.)\n",
    "visit_dmap_ref_phot_cosmos = visit_dmap_dict([9813], cosmos_filters, ref_phot_descriptions, styles=styles, scale=1.)"
   ]
  },
  {
   "cell_type": "code",
   "execution_count": null,
   "metadata": {
    "collapsed": true,
    "scrolled": false
   },
   "outputs": [],
   "source": [
    "for tr in [8766, 8767]:\n",
    "    for f in wide_filters:\n",
    "        visit_dmap_ref_phot_wide[tr][f]    "
   ]
  },
  {
   "cell_type": "code",
   "execution_count": null,
   "metadata": {
    "collapsed": true,
    "scrolled": false
   },
   "outputs": [],
   "source": [
    "for f in cosmos_filters:\n",
    "    visit_dmap_ref_phot_cosmos[9813][f]       "
   ]
  },
  {
   "cell_type": "markdown",
   "metadata": {},
   "source": [
    "## Astrometry measurements are consistent with reference catalog positions (including sources not used in astrometric calibration)"
   ]
  },
  {
   "cell_type": "code",
   "execution_count": null,
   "metadata": {
    "collapsed": true
   },
   "outputs": [],
   "source": [
    "ref_ast_descriptions=['matches_distance', 'matches_raCosDec', 'matches_dec']\n",
    "styles=['psfMagHist', 'sky-stars']\n",
    "\n",
    "visit_dmap_ref_ast_wide = visit_dmap_dict([8766, 8767], wide_filters, ref_ast_descriptions, styles=styles, scale=1.0)\n",
    "visit_dmap_ref_ast_cosmos = visit_dmap_dict([9813], cosmos_filters, ref_ast_descriptions, styles=styles, scale=1.0)"
   ]
  },
  {
   "cell_type": "code",
   "execution_count": null,
   "metadata": {
    "collapsed": true,
    "scrolled": false
   },
   "outputs": [],
   "source": [
    "for tr in [8766, 8767]:\n",
    "    for f in wide_filters:\n",
    "        visit_dmap_ref_ast_wide[tr][f]    "
   ]
  },
  {
   "cell_type": "code",
   "execution_count": null,
   "metadata": {
    "collapsed": true,
    "scrolled": false
   },
   "outputs": [],
   "source": [
    "for f in cosmos_filters:\n",
    "    visit_dmap_ref_ast_cosmos[9813][f]       "
   ]
  },
  {
   "cell_type": "markdown",
   "metadata": {},
   "source": [
    "# Object Catalog"
   ]
  },
  {
   "cell_type": "markdown",
   "metadata": {},
   "source": [
    "## Aperture corrections for different photometry algorithms are consistent"
   ]
  },
  {
   "cell_type": "code",
   "execution_count": null,
   "metadata": {
    "scrolled": false
   },
   "outputs": [],
   "source": [
    "filter_layout_dmap_coadd(butler, descriptions=['mag_modelfit_CModel', 'mag_base_GaussianFlux', 'mag_ext_photometryKron_KronFlux'], scale=1.)"
   ]
  },
  {
   "cell_type": "markdown",
   "metadata": {},
   "source": [
    "## PSF models correctly predict the ellipticities of stars over the field of view."
   ]
  },
  {
   "cell_type": "code",
   "execution_count": null,
   "metadata": {
    "scrolled": false
   },
   "outputs": [],
   "source": [
    "filter_layout_dmap_coadd(butler, descriptions=['e1ResidsHsm', 'e2ResidsHsm'], styles=['psfMagHist'], scale=1.)"
   ]
  },
  {
   "cell_type": "code",
   "execution_count": null,
   "metadata": {},
   "outputs": [],
   "source": [
    "filter_layout_dmap_coadd(butler, descriptions=['ellipResids'], styles=['quiver'], scale=1.)"
   ]
  },
  {
   "cell_type": "markdown",
   "metadata": {},
   "source": [
    "## Photometry measurements are consistent with reference catalog photometry (including sources not used in photometric calibration)"
   ]
  },
  {
   "cell_type": "code",
   "execution_count": null,
   "metadata": {},
   "outputs": [],
   "source": [
    "filter_layout_dmap_coadd(butler, descriptions=['matches_mag', 'matches_mag_calib_psf_used'], styles=['psfMagHist', 'sky-stars'], scale=1.)"
   ]
  },
  {
   "cell_type": "markdown",
   "metadata": {},
   "source": [
    "## Astrometry measurements are consistent with reference catalog positions (including sources not used in astrometric calibration)"
   ]
  },
  {
   "cell_type": "code",
   "execution_count": null,
   "metadata": {
    "collapsed": true
   },
   "outputs": [],
   "source": [
    "filter_layout_dmap_coadd(butler, descriptions=['matches_distance', 'matches_raCosDec', 'matches_dec'], styles=['psfMagHist', 'sky-stars'], scale=1)"
   ]
  },
  {
   "cell_type": "markdown",
   "metadata": {},
   "source": [
    "## Forced and unforced photometry measurements are consistent."
   ]
  },
  {
   "cell_type": "code",
   "execution_count": null,
   "metadata": {
    "collapsed": true
   },
   "outputs": [],
   "source": [
    "filter_layout_dmap_coadd(butler, descriptions=['compareUnforced_modelfit_CModel'], scale=1.)"
   ]
  },
  {
   "cell_type": "markdown",
   "metadata": {
    "collapsed": true
   },
   "source": [
    "## The slope of the stellar locus in color-color space is not a function of position on the sky"
   ]
  },
  {
   "cell_type": "code",
   "execution_count": null,
   "metadata": {},
   "outputs": [],
   "source": [
    "color_dmap(butler, descriptions=['color_wPerp', 'color_xPerp', 'color_yPerp'])"
   ]
  },
  {
   "cell_type": "code",
   "execution_count": null,
   "metadata": {
    "collapsed": true
   },
   "outputs": [],
   "source": [
    "color_dmap(butler, descriptions=['gri', 'izy', 'riz'], styles=['fit', 'psfMagHist', 'sky-stars'])"
   ]
  },
  {
   "cell_type": "code",
   "execution_count": null,
   "metadata": {
    "collapsed": true
   },
   "outputs": [],
   "source": []
  }
 ],
 "metadata": {
  "kernelspec": {
   "display_name": "Python 3",
   "language": "python",
   "name": "python3"
  },
  "language_info": {
   "codemirror_mode": {
    "name": "ipython",
    "version": 3
   },
   "file_extension": ".py",
   "mimetype": "text/x-python",
   "name": "python",
   "nbconvert_exporter": "python",
   "pygments_lexer": "ipython3",
   "version": "3.6.2"
  }
 },
 "nbformat": 4,
 "nbformat_minor": 2
}
