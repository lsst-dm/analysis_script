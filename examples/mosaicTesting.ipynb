{
 "cells": [
  {
   "cell_type": "code",
   "execution_count": null,
   "metadata": {
    "collapsed": false
   },
   "outputs": [],
   "source": [
    "import numpy as np\n",
    "from numpy.testing import assert_almost_equal\n",
    "\n",
    "import lsst.daf.persistence as dafPersist\n",
    "import lsst.afw.display as afwDisplay\n",
    "import lsst.afw.geom as afwGeom\n",
    "import lsst.afw.image as afwImage\n",
    "from lsst.meas.mosaic.updateExposure import (applyMosaicResultsCatalog,\n",
    "                                             applyMosaicResultsExposure, getWcs)"
   ]
  },
  {
   "cell_type": "code",
   "execution_count": 2,
   "metadata": {
    "collapsed": false
   },
   "outputs": [],
   "source": [
    "frame = 1\n",
    "dispL1 = afwDisplay.getDisplay(frame)\n",
    "dispL1.setMaskTransparency(75)\n",
    "frame += 1\n",
    "dispL2 = afwDisplay.getDisplay(frame)\n",
    "dispL2.setMaskTransparency(75)\n",
    "frame += 1\n",
    "dispL3 = afwDisplay.getDisplay(frame)\n",
    "dispL3.setMaskTransparency(75)\n",
    "frame += 1\n",
    "dispL4 = afwDisplay.getDisplay(frame)\n",
    "dispL4.setMaskTransparency(75)"
   ]
  },
  {
   "cell_type": "code",
   "execution_count": null,
   "metadata": {
    "collapsed": false
   },
   "outputs": [],
   "source": [
    "rootDirL1 = \"/tigress/HSC/HSC/rerun/lauren/LSST/DM-9862/cosmos_noJunk/4mnQuarterTest/\"\n",
    "rootDirL2 = \"/tigress/HSC/HSC/rerun/lauren/LSST/DM-9862a/cosmos_noJunk/\"\n",
    "\n",
    "# make a butler\n",
    "butlerL1 = dafPersist.Butler(rootDirL1)\n",
    "butlerL2 = dafPersist.Butler(rootDirL2)"
   ]
  },
  {
   "cell_type": "code",
   "execution_count": null,
   "metadata": {
    "collapsed": true
   },
   "outputs": [],
   "source": [
    "visit = 1228\n",
    "ccdList = [49, 50, 100, 101, 102, 103]\n",
    "filter = \"HSC-I\"\n",
    "tract = 0\n",
    "srcIndex = 100"
   ]
  },
  {
   "cell_type": "code",
   "execution_count": null,
   "metadata": {
    "collapsed": false,
    "scrolled": false
   },
   "outputs": [],
   "source": [
    "for i, ccd in enumerate(ccdList):\n",
    "    dataId = {\"visit\": visit, \"ccd\": ccd, \"tract\": tract}\n",
    "    srcCatL2 = butlerL2.get(\"src\", dataId)\n",
    "    dataRef2 = butlerL2.dataRef(\"src\", dataId=dict(visit=visit, ccd=ccd, tract=tract))\n",
    "    result2 = applyMosaicResultsCatalog(dataRef2, srcCatL2, True)\n",
    "    cat2 = result2.catalog\n",
    "    s = cat2[srcIndex]\n",
    "    print ccd, float(s.getRa().asDegrees()), float(s.getDec().asDegrees()), s.getX(), s.getY(), s.getModelFlux()\n",
    "    # assert_almost_equal(float(s.getRa().asDegrees()), knownRa[i], decimal=9)\n",
    "    # assert_almost_equal(float(s.getDec().asDegrees()), knownDec[i], decimal=9)\n",
    "    # assert_almost_equal(s.getX(), knownX[i], decimal=8)\n",
    "    # assert_almost_equal(s.getY(), knownY[i], decimal=8)\n",
    "    # assert_almost_equal(s.getModelFlux(), knownModelFlux[i], decimal=7)"
   ]
  },
  {
   "cell_type": "code",
   "execution_count": 5,
   "metadata": {
    "collapsed": true
   },
   "outputs": [],
   "source": [
    "knownRa = [150.291755265, 149.915585934, 150.761245879, 149.406088728, 150.77650489, 149.407912134]\n",
    "knownDec = [2.20870255223, 2.16278669124, 1.84687842649, 1.84855672765, 2.55532853412, 2.55168410547]\n",
    "knownX = [853.076542845, 218.0, 990.451759767, 109.935039499, 694.488613548, 1873.73688523]\n",
    "knownY = [186.383389529, 210.0, 289.913434466, 256.140451952, 298.552189014, 275.660772235]\n",
    "knownzModelFlux = [1477.6487901, 3948.61992604, 5022.95936829, 9588.90750291, 3467.05160473, 72949.3415395]"
   ]
  },
  {
   "cell_type": "code",
   "execution_count": 4,
   "metadata": {
    "collapsed": false
   },
   "outputs": [
    {
     "name": "stdout",
     "output_type": "stream",
     "text": [
      "49 150.291755265 2.20870255223 853.076542845 186.383389529 1477.6487901\n",
      "50 150.091436657 2.23827562198 218.0 210.0 3948.61992607\n",
      "100 150.729960521 1.81164948552 990.451759767 289.913434466 4797.46466258\n",
      "101 149.415087207 1.77390881637 109.935039499 256.140451952 9485.85455599\n",
      "102 150.636950792 2.57691845954 694.488613548 298.552189014 3360.4136159\n",
      "103 149.326371191 2.61841765656 1873.73688523 275.660772235 72026.6284466\n"
     ]
    }
   ],
   "source": [
    "for i, ccd in enumerate(ccdList):\n",
    "    dataId = {\"visit\": visit, \"ccd\": ccd, \"tract\": tract}\n",
    "    srcCatL1 = butlerL1.get(\"src\", dataId)\n",
    "    dataRef1 = butlerL1.dataRef(\"src\", dataId=dict(visit=visit, ccd=ccd, tract=tract))\n",
    "    result1 = applyMosaicResultsCatalog(dataRef1, srcCatL1, True)\n",
    "    cat1 = result1.catalog\n",
    "    s = cat1[srcIndex]\n",
    "    print ccd, float(s.getRa().asDegrees()), float(s.getDec().asDegrees()), s.getX(), s.getY(), s.getModelFlux()"
   ]
  },
  {
   "cell_type": "code",
   "execution_count": 5,
   "metadata": {
    "collapsed": false
   },
   "outputs": [],
   "source": [
    "ccd = 50\n",
    "dataId = {\"visit\": visit, \"ccd\": ccd, \"tract\": tract}\n",
    "dataRef1 = butlerL1.dataRef(\"src\", dataId=dict(visit=visit, ccd=ccd, tract=tract))\n",
    "dataRef2 = butlerL2.dataRef(\"src\", dataId=dict(visit=visit, ccd=ccd, tract=tract))\n",
    "expL1 = butlerL1.get(\"calexp\", dataId)\n",
    "expL2 = butlerL2.get(\"calexp\", dataId)"
   ]
  },
  {
   "cell_type": "code",
   "execution_count": 28,
   "metadata": {
    "collapsed": false
   },
   "outputs": [],
   "source": [
    "dispL1.mtv(expL1.getMaskedImage(), title=\"LSST image new\")\n",
    "dispL2.mtv(expL2.getMaskedImage(), title=\"LSST image orig\")"
   ]
  },
  {
   "cell_type": "code",
   "execution_count": 30,
   "metadata": {
    "collapsed": false
   },
   "outputs": [
    {
     "name": "stdout",
     "output_type": "stream",
     "text": [
      "<class 'lsst.afw.image.imageLib.TanWcs'>\n",
      "\n",
      "<class 'lsst.afw.image.imageLib.TanWcs'>\n",
      "\n"
     ]
    }
   ],
   "source": [
    "upExpL1 = applyMosaicResultsExposure(dataRef1, calexp=None)\n",
    "upExpL1 = upExpL1.exposure\n",
    "upExpL2 = applyMosaicResultsExposure(dataRef2, calexp=None)\n",
    "upExpL2 = upExpL2.exposure"
   ]
  },
  {
   "cell_type": "code",
   "execution_count": 31,
   "metadata": {
    "collapsed": true
   },
   "outputs": [],
   "source": [
    "dispL3.mtv(upExpL1.getMaskedImage(), title=\"LSST image update new\")\n",
    "dispL4.mtv(upExpL2.getMaskedImage(), title=\"LSST image update orig\")"
   ]
  },
  {
   "cell_type": "code",
   "execution_count": 5,
   "metadata": {
    "collapsed": true
   },
   "outputs": [],
   "source": [
    "srcCatL1 = butlerL1.get(\"src\", dataId)\n",
    "srcCatL2 = butlerL2.get(\"src\", dataId)"
   ]
  },
  {
   "cell_type": "code",
   "execution_count": 6,
   "metadata": {
    "collapsed": true
   },
   "outputs": [],
   "source": [
    "s1 = srcCatL1[10]\n",
    "s2 = srcCatL2[10]"
   ]
  },
  {
   "cell_type": "code",
   "execution_count": 7,
   "metadata": {
    "collapsed": false
   },
   "outputs": [
    {
     "data": {
      "text/plain": [
       "IcrsCoord(149.90675487730076*afwGeom.degrees, 2.2354969394502535*afwGeom.degrees)"
      ]
     },
     "execution_count": 7,
     "metadata": {},
     "output_type": "execute_result"
    }
   ],
   "source": [
    "s1.getCoord()"
   ]
  },
  {
   "cell_type": "code",
   "execution_count": 8,
   "metadata": {
    "collapsed": false
   },
   "outputs": [
    {
     "data": {
      "text/plain": [
       "IcrsCoord(149.90675487730076*afwGeom.degrees, 2.2354969394502535*afwGeom.degrees)"
      ]
     },
     "execution_count": 8,
     "metadata": {},
     "output_type": "execute_result"
    }
   ],
   "source": [
    "s2.getCoord()"
   ]
  },
  {
   "cell_type": "code",
   "execution_count": 9,
   "metadata": {
    "collapsed": false
   },
   "outputs": [
    {
     "name": "stdout",
     "output_type": "stream",
     "text": [
      "HERE!!...\n",
      "1: ffp.wcs.getCDMatrix() =  [[ -7.79102403e-10   4.68748816e-05]\n",
      " [  4.68612723e-05   8.23129204e-09]]\n",
      "2: ffp.wcs.getCDMatrix() =  [[  7.79102403e-10  -4.68748816e-05]\n",
      " [ -4.68612723e-05  -8.23129204e-09]]\n",
      "2: wcs.getCDMatrix() =  [[ -7.79102403e-10   4.68748816e-05]\n",
      " [  4.68612723e-05   8.23129204e-09]]\n",
      "HERE!!...\n",
      "1: ffp.wcs.getCDMatrix() =  [[  7.79102403e-10  -4.68748816e-05]\n",
      " [ -4.68612723e-05  -8.23129204e-09]]\n",
      "2: ffp.wcs.getCDMatrix() =  [[ -7.79102403e-10   4.68748816e-05]\n",
      " [  4.68612723e-05   8.23129204e-09]]\n",
      "2: wcs.getCDMatrix() =  [[  7.79102403e-10  -4.68748816e-05]\n",
      " [ -4.68612723e-05  -8.23129204e-09]]\n"
     ]
    }
   ],
   "source": [
    "dataRef1 = butlerL1.dataRef(\"src\", dataId=dict(visit=visit, ccd=ccd, tract=tract))\n",
    "result1 = applyMosaicResultsCatalog(dataRef1, srcCatL1, True)\n",
    "dataRef2 = butlerL2.dataRef(\"src\", dataId=dict(visit=visit, ccd=ccd, tract=tract))\n",
    "result2 = applyMosaicResultsCatalog(dataRef2, srcCatL2, True)"
   ]
  },
  {
   "cell_type": "code",
   "execution_count": 10,
   "metadata": {
    "collapsed": false
   },
   "outputs": [],
   "source": [
    "cat1 = result1.catalog\n",
    "cat2 = result2.catalog"
   ]
  },
  {
   "cell_type": "code",
   "execution_count": 11,
   "metadata": {
    "collapsed": false
   },
   "outputs": [
    {
     "data": {
      "text/plain": [
       "IcrsCoord(149.9068054393456*afwGeom.degrees, 2.2354459115086627*afwGeom.degrees)"
      ]
     },
     "execution_count": 11,
     "metadata": {},
     "output_type": "execute_result"
    }
   ],
   "source": [
    "cat1[10].getCoord()"
   ]
  },
  {
   "cell_type": "code",
   "execution_count": 12,
   "metadata": {
    "collapsed": false
   },
   "outputs": [
    {
     "data": {
      "text/plain": [
       "IcrsCoord(150.10030301657136*afwGeom.degrees, 2.165451941318979*afwGeom.degrees)"
      ]
     },
     "execution_count": 12,
     "metadata": {},
     "output_type": "execute_result"
    }
   ],
   "source": [
    "cat2[10].getCoord()"
   ]
  },
  {
   "cell_type": "code",
   "execution_count": 29,
   "metadata": {
    "collapsed": true
   },
   "outputs": [],
   "source": [
    "dispL1.mtv(expL1.getMaskedImage(), title=\"LSST image\")"
   ]
  },
  {
   "cell_type": "code",
   "execution_count": 30,
   "metadata": {
    "collapsed": true
   },
   "outputs": [],
   "source": [
    "dispL2.mtv(expL2.getMaskedImage(), title=\"LSST image\")"
   ]
  },
  {
   "cell_type": "code",
   "execution_count": 15,
   "metadata": {
    "collapsed": false
   },
   "outputs": [],
   "source": [
    "wcs = getWcs(dataRef1)"
   ]
  },
  {
   "cell_type": "code",
   "execution_count": 16,
   "metadata": {
    "collapsed": false
   },
   "outputs": [
    {
     "data": {
      "text/plain": [
       "array([[ -7.79102403e-10,   4.68748816e-05],\n",
       "       [  4.68612723e-05,   8.23129204e-09]])"
      ]
     },
     "execution_count": 16,
     "metadata": {},
     "output_type": "execute_result"
    }
   ],
   "source": [
    "wcs.getCDMatrix()"
   ]
  },
  {
   "cell_type": "code",
   "execution_count": null,
   "metadata": {
    "collapsed": true
   },
   "outputs": [],
   "source": []
  }
 ],
 "metadata": {
  "kernelspec": {
   "display_name": "Python 2",
   "language": "python",
   "name": "python2"
  },
  "language_info": {
   "codemirror_mode": {
    "name": "ipython",
    "version": 2
   },
   "file_extension": ".py",
   "mimetype": "text/x-python",
   "name": "python",
   "nbconvert_exporter": "python",
   "pygments_lexer": "ipython2",
   "version": "2.7.11"
  }
 },
 "nbformat": 4,
 "nbformat_minor": 0
}
