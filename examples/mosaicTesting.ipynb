{
 "cells": [
  {
   "cell_type": "code",
   "execution_count": 1,
   "metadata": {
    "collapsed": true
   },
   "outputs": [],
   "source": [
    "import numpy as np\n",
    "from numpy.testing import assert_almost_equal\n",
    "\n",
    "import lsst.daf.persistence as dafPersist\n",
    "import lsst.afw.display as afwDisplay\n",
    "import lsst.afw.geom as afwGeom\n",
    "import lsst.afw.image as afwImage\n",
    "import lsst.afw.table as afwTable\n",
    "from lsst.meas.mosaic.updateExposure import applyMosaicResultsCatalog, getWcs\n"
   ]
  },
  {
   "cell_type": "code",
   "execution_count": 2,
   "metadata": {
    "collapsed": true
   },
   "outputs": [],
   "source": [
    "frame = 1\n",
    "dispL2 = afwDisplay.getDisplay(frame)\n",
    "dispL2.setMaskTransparency(75)"
   ]
  },
  {
   "cell_type": "code",
   "execution_count": 3,
   "metadata": {
    "collapsed": false
   },
   "outputs": [],
   "source": [
    "rootDirL2 = \"/tigress/HSC/HSC/rerun/lauren/LSST/DM-9862/cosmos_noJunk/orig/\"\n",
    "\n",
    "# make a butler\n",
    "butlerL2 = dafPersist.Butler(rootDirL2)"
   ]
  },
  {
   "cell_type": "code",
   "execution_count": 4,
   "metadata": {
    "collapsed": false,
    "scrolled": false
   },
   "outputs": [],
   "source": [
    "visit = 1228\n",
    "ccdList = [49, 50, 100, 101, 102, 103]\n",
    "filter = \"HSC-I\"\n",
    "tract = 0\n",
    "srcIndex = 100\n",
    "\n",
    "knownRa = [150.291755265, 149.915585934, 150.761245879, 149.406088728, 150.77650489, 149.407912134]\n",
    "knownDec = [2.20870255223, 2.16278669124, 1.84687842649, 1.84855672765, 2.55532853412, 2.55168410547]\n",
    "knownX = [853.076542845, 218.0, 990.451759767, 109.935039499, 694.488613548, 1873.73688523]\n",
    "knownY = [186.383389529, 210.0, 289.913434466, 256.140451952, 298.552189014, 275.660772235]\n",
    "knownModelFlux = [1477.6487901, 3948.61992604, 5022.95936829, 9588.90750291, 3467.05160473, 72949.3415395]\n",
    "\n",
    "for i, ccd in enumerate(ccdList):\n",
    "    dataId = {\"visit\": visit, \"ccd\": ccd, \"tract\": tract}\n",
    "    srcCatL2 = butlerL2.get(\"src\", dataId)\n",
    "    s2 = srcCatL2[srcIndex]\n",
    "    s2.getCoord()\n",
    "    dataRef2 = butlerL2.dataRef(\"src\", dataId=dict(visit=visit, ccd=ccd, tract=tract))\n",
    "    result2 = applyMosaicResultsCatalog(dataRef2, srcCatL2, True)\n",
    "    cat2 = result2.catalog\n",
    "    s = cat2[srcIndex]\n",
    "    # print float(s.getRa().asDegrees()) #, s.getDec(), s.getX(), s.getY(), s.getModelFlux()\n",
    "    assert_almost_equal(float(s.getRa().asDegrees()), knownRa[i], decimal=9)\n",
    "    assert_almost_equal(float(s.getDec().asDegrees()), knownDec[i], decimal=9)\n",
    "    assert_almost_equal(s.getX(), knownX[i], decimal=8)\n",
    "    assert_almost_equal(s.getY(), knownY[i], decimal=8)\n",
    "    assert_almost_equal(s.getModelFlux(), knownModelFlux[i], decimal=7)"
   ]
  },
  {
   "cell_type": "code",
   "execution_count": 5,
   "metadata": {
    "collapsed": false
   },
   "outputs": [
    {
     "name": "stdout",
     "output_type": "stream",
     "text": [
      "<lsst.afw.image.imageLib.Wcs; proxy of <Swig Object of type 'std::shared_ptr< lsst::afw::image::Wcs > *' at 0x2b6f04d75a20> >\n"
     ]
    }
   ],
   "source": [
    "wcs = getWcs(dataRef2)\n",
    "print wcs"
   ]
  },
  {
   "cell_type": "code",
   "execution_count": 6,
   "metadata": {
    "collapsed": false
   },
   "outputs": [
    {
     "ename": "NameError",
     "evalue": "name 'butlerL1' is not defined",
     "output_type": "error",
     "traceback": [
      "\u001b[1;31m---------------------------------------------------------------------------\u001b[0m",
      "\u001b[1;31mNameError\u001b[0m                                 Traceback (most recent call last)",
      "\u001b[1;32m<ipython-input-6-2d9bb87a3298>\u001b[0m in \u001b[0;36m<module>\u001b[1;34m()\u001b[0m\n\u001b[1;32m----> 1\u001b[1;33m \u001b[0mexpL1\u001b[0m \u001b[1;33m=\u001b[0m \u001b[0mbutlerL1\u001b[0m\u001b[1;33m.\u001b[0m\u001b[0mget\u001b[0m\u001b[1;33m(\u001b[0m\u001b[1;34m\"calexp\"\u001b[0m\u001b[1;33m,\u001b[0m \u001b[0mdataId\u001b[0m\u001b[1;33m)\u001b[0m\u001b[1;33m\u001b[0m\u001b[0m\n\u001b[0m\u001b[0;32m      2\u001b[0m \u001b[0mexpL2\u001b[0m \u001b[1;33m=\u001b[0m \u001b[0mbutlerL2\u001b[0m\u001b[1;33m.\u001b[0m\u001b[0mget\u001b[0m\u001b[1;33m(\u001b[0m\u001b[1;34m\"calexp\"\u001b[0m\u001b[1;33m,\u001b[0m \u001b[0mdataId\u001b[0m\u001b[1;33m)\u001b[0m\u001b[1;33m\u001b[0m\u001b[0m\n",
      "\u001b[1;31mNameError\u001b[0m: name 'butlerL1' is not defined"
     ]
    }
   ],
   "source": [
    "expL1 = butlerL1.get(\"calexp\", dataId)\n",
    "expL2 = butlerL2.get(\"calexp\", dataId)"
   ]
  },
  {
   "cell_type": "code",
   "execution_count": 9,
   "metadata": {
    "collapsed": false
   },
   "outputs": [],
   "source": [
    "dispL1.mtv(expL1.getMaskedImage(), title=\"LSST image\")\n",
    "dispL2.mtv(expL2.getMaskedImage(), title=\"LSST image\")"
   ]
  },
  {
   "cell_type": "code",
   "execution_count": 5,
   "metadata": {
    "collapsed": true
   },
   "outputs": [],
   "source": [
    "srcCatL1 = butlerL1.get(\"src\", dataId)\n",
    "srcCatL2 = butlerL2.get(\"src\", dataId)"
   ]
  },
  {
   "cell_type": "code",
   "execution_count": 6,
   "metadata": {
    "collapsed": true
   },
   "outputs": [],
   "source": [
    "s1 = srcCatL1[10]\n",
    "s2 = srcCatL2[10]"
   ]
  },
  {
   "cell_type": "code",
   "execution_count": 7,
   "metadata": {
    "collapsed": false
   },
   "outputs": [
    {
     "data": {
      "text/plain": [
       "IcrsCoord(149.90675487730076*afwGeom.degrees, 2.2354969394502535*afwGeom.degrees)"
      ]
     },
     "execution_count": 7,
     "metadata": {},
     "output_type": "execute_result"
    }
   ],
   "source": [
    "s1.getCoord()"
   ]
  },
  {
   "cell_type": "code",
   "execution_count": 8,
   "metadata": {
    "collapsed": false
   },
   "outputs": [
    {
     "data": {
      "text/plain": [
       "IcrsCoord(149.90675487730076*afwGeom.degrees, 2.2354969394502535*afwGeom.degrees)"
      ]
     },
     "execution_count": 8,
     "metadata": {},
     "output_type": "execute_result"
    }
   ],
   "source": [
    "s2.getCoord()"
   ]
  },
  {
   "cell_type": "code",
   "execution_count": 9,
   "metadata": {
    "collapsed": false
   },
   "outputs": [
    {
     "name": "stdout",
     "output_type": "stream",
     "text": [
      "HERE!!...\n",
      "1: ffp.wcs.getCDMatrix() =  [[ -7.79102403e-10   4.68748816e-05]\n",
      " [  4.68612723e-05   8.23129204e-09]]\n",
      "2: ffp.wcs.getCDMatrix() =  [[  7.79102403e-10  -4.68748816e-05]\n",
      " [ -4.68612723e-05  -8.23129204e-09]]\n",
      "2: wcs.getCDMatrix() =  [[ -7.79102403e-10   4.68748816e-05]\n",
      " [  4.68612723e-05   8.23129204e-09]]\n",
      "HERE!!...\n",
      "1: ffp.wcs.getCDMatrix() =  [[  7.79102403e-10  -4.68748816e-05]\n",
      " [ -4.68612723e-05  -8.23129204e-09]]\n",
      "2: ffp.wcs.getCDMatrix() =  [[ -7.79102403e-10   4.68748816e-05]\n",
      " [  4.68612723e-05   8.23129204e-09]]\n",
      "2: wcs.getCDMatrix() =  [[  7.79102403e-10  -4.68748816e-05]\n",
      " [ -4.68612723e-05  -8.23129204e-09]]\n"
     ]
    }
   ],
   "source": [
    "dataRef1 = butlerL1.dataRef(\"src\", dataId=dict(visit=visit, ccd=ccd, tract=tract))\n",
    "result1 = applyMosaicResultsCatalog(dataRef1, srcCatL1, True)\n",
    "dataRef2 = butlerL2.dataRef(\"src\", dataId=dict(visit=visit, ccd=ccd, tract=tract))\n",
    "result2 = applyMosaicResultsCatalog(dataRef2, srcCatL2, True)"
   ]
  },
  {
   "cell_type": "code",
   "execution_count": 10,
   "metadata": {
    "collapsed": false
   },
   "outputs": [],
   "source": [
    "cat1 = result1.catalog\n",
    "cat2 = result2.catalog"
   ]
  },
  {
   "cell_type": "code",
   "execution_count": 11,
   "metadata": {
    "collapsed": false
   },
   "outputs": [
    {
     "data": {
      "text/plain": [
       "IcrsCoord(149.9068054393456*afwGeom.degrees, 2.2354459115086627*afwGeom.degrees)"
      ]
     },
     "execution_count": 11,
     "metadata": {},
     "output_type": "execute_result"
    }
   ],
   "source": [
    "cat1[10].getCoord()"
   ]
  },
  {
   "cell_type": "code",
   "execution_count": 12,
   "metadata": {
    "collapsed": false
   },
   "outputs": [
    {
     "data": {
      "text/plain": [
       "IcrsCoord(150.10030301657136*afwGeom.degrees, 2.165451941318979*afwGeom.degrees)"
      ]
     },
     "execution_count": 12,
     "metadata": {},
     "output_type": "execute_result"
    }
   ],
   "source": [
    "cat2[10].getCoord()"
   ]
  },
  {
   "cell_type": "code",
   "execution_count": 29,
   "metadata": {
    "collapsed": true
   },
   "outputs": [],
   "source": [
    "dispL1.mtv(expL1.getMaskedImage(), title=\"LSST image\")"
   ]
  },
  {
   "cell_type": "code",
   "execution_count": 30,
   "metadata": {
    "collapsed": true
   },
   "outputs": [],
   "source": [
    "dispL2.mtv(expL2.getMaskedImage(), title=\"LSST image\")"
   ]
  },
  {
   "cell_type": "code",
   "execution_count": 15,
   "metadata": {
    "collapsed": false
   },
   "outputs": [],
   "source": [
    "wcs = getWcs(dataRef1)"
   ]
  },
  {
   "cell_type": "code",
   "execution_count": 16,
   "metadata": {
    "collapsed": false
   },
   "outputs": [
    {
     "data": {
      "text/plain": [
       "array([[ -7.79102403e-10,   4.68748816e-05],\n",
       "       [  4.68612723e-05,   8.23129204e-09]])"
      ]
     },
     "execution_count": 16,
     "metadata": {},
     "output_type": "execute_result"
    }
   ],
   "source": [
    "wcs.getCDMatrix()"
   ]
  },
  {
   "cell_type": "code",
   "execution_count": null,
   "metadata": {
    "collapsed": true
   },
   "outputs": [],
   "source": []
  }
 ],
 "metadata": {
  "kernelspec": {
   "display_name": "Python 2",
   "language": "python",
   "name": "python2"
  },
  "language_info": {
   "codemirror_mode": {
    "name": "ipython",
    "version": 2
   },
   "file_extension": ".py",
   "mimetype": "text/x-python",
   "name": "python",
   "nbconvert_exporter": "python",
   "pygments_lexer": "ipython2",
   "version": "2.7.11"
  }
 },
 "nbformat": 4,
 "nbformat_minor": 0
}
